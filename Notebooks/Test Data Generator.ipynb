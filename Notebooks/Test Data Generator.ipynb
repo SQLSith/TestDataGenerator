{
    "metadata": {
        "kernelspec": {
            "name": "SQL",
            "display_name": "SQL",
            "language": "sql"
        },
        "language_info": {
            "name": "sql",
            "version": ""
        }
    },
    "nbformat_minor": 2,
    "nbformat": 4,
    "cells": [
        {
            "cell_type": "markdown",
            "source": [
                "# Test Data Generator\n",
                "\n",
                "### By Jon Bairstow\n",
                "\n",
                "### The test data generator was a project conceived as a solution to the need to create realistic data for demonstrations. The following code snippets demonstrate a variety of methods for generating test data."
            ],
            "metadata": {
                "azdata_cell_guid": "d954a888-c228-44cd-9ac6-3e0408ada8b5"
            }
        },
        {
            "cell_type": "markdown",
            "source": [
                "## Generation by Function\n",
                "\n",
                "The project includes a number of functions for generating single data values within a select statement:"
            ],
            "metadata": {
                "azdata_cell_guid": "f7859475-22ff-4c29-9bff-cbf7c2d3c3a8"
            }
        },
        {
            "cell_type": "code",
            "source": [
                "Declare\t\t@DateOfBirth datetime\r\n",
                "\r\n",
                "Select @DateOfBirth = [SingleValue].[ufn_Get_Date]('1960-01-01','1990-01-01')\r\n",
                "\r\n",
                "Select\t[SingleValue].[ufn_Get_Forename]() + ' ' +\r\n",
                "\t\t[SingleValue].[ufn_Get_Surname]() + ' was born on ' + \r\n",
                "\t\tconvert(varchar(20), @DateOfBirth, 103) + ' which makes him '+\r\n",
                "\t\tcast(datediff(day, @DateOfBirth, getdate()) / 365 as varchar(3)) + ' years old'"
            ],
            "metadata": {
                "azdata_cell_guid": "0f76a456-0373-4d0d-bdbb-1a9a26b66ee0",
                "tags": []
            },
            "outputs": [],
            "execution_count": null
        },
        {
            "cell_type": "markdown",
            "source": [
                "## Single Value by Procedure\n",
                "\n",
                "This collection of procedures will randomly generate a single value, which can be captured in a variable or passed to a calling application. These procedures exist in the schema SingleValue."
            ],
            "metadata": {
                "azdata_cell_guid": "239c4ff9-ed5e-414e-afb6-8b95193877fb"
            }
        },
        {
            "cell_type": "code",
            "source": [
                "Set nocount ON\r\n",
                "go\r\n",
                "\r\n",
                "Declare\t@Number varchar(2),\r\n",
                "\t\t@Street\tvarchar(50)\r\n",
                "\r\n",
                "exec SingleValue.usp_Get_Number @MinValue = 1, @MaxValue= 99, @Number = @Number out\r\n",
                "exec SingleValue.usp_Get_Street @Street = @Street out\r\n",
                "\r\n",
                "Select\t@Number + ' ' + @Street AddressLine\r\n",
                ""
            ],
            "metadata": {
                "azdata_cell_guid": "d780652c-0ab7-4066-8ab8-a8aeda039273",
                "tags": []
            },
            "outputs": [],
            "execution_count": null
        },
        {
            "cell_type": "markdown",
            "source": [
                "A second set of procedures, under the schema Fountain, generate similar data items, but in a predefined order. Whilst only as random as the source table, they ensure that values are generated evenly over time."
            ],
            "metadata": {
                "azdata_cell_guid": "62d49e70-2e2b-4a37-b27a-97cd02165506"
            }
        },
        {
            "cell_type": "code",
            "source": [
                "Set nocount ON\r\n",
                "go\r\n",
                "\r\n",
                "Declare @Forename varchar(50)\r\n",
                "\r\n",
                "exec [Fountain].[usp_Get_Forename] @Forename= @Forename out\r\n",
                "\r\n",
                "Select\t* \r\n",
                "from\t[Reference].[Forename]\r\n",
                "where\t[Forename] = @Forename\r\n",
                "go 3"
            ],
            "metadata": {
                "azdata_cell_guid": "0202ec32-751b-481c-a75b-0536d4db4a4c"
            },
            "outputs": [],
            "execution_count": null
        },
        {
            "cell_type": "markdown",
            "source": [
                "## Bulk Values by Procedure \n",
                "\n",
                "This collection of procedures will randomly generate  up to 10000 data values which can be captured in a table or passed to a calling application. These procedures exist in the schema BulkValue."
            ],
            "metadata": {
                "azdata_cell_guid": "3eaf8dc0-e310-4e1f-84a0-00ee9414a033"
            }
        },
        {
            "cell_type": "code",
            "source": [
                "exec [BulkValue].[usp_Get_PhoneNumber] 10"
            ],
            "metadata": {
                "azdata_cell_guid": "e13cb9c4-a43e-436b-9eb9-79c84e70577c"
            },
            "outputs": [],
            "execution_count": null
        },
        {
            "cell_type": "markdown",
            "source": [
                "A second set of procedures, under the schema BulkFountain, generate similar data items, but in a predefined order. Whilst only as random as the source table, they ensure that values are generated evenly over time."
            ],
            "metadata": {
                "azdata_cell_guid": "3a45a68c-d844-4a24-ad86-4350b28aab17"
            }
        },
        {
            "cell_type": "code",
            "source": [
                "exec [BulkFountain].[usp_Get_Size] 10"
            ],
            "metadata": {
                "azdata_cell_guid": "e557a5c9-5ee0-4902-9594-fcdaf88091bb"
            },
            "outputs": [],
            "execution_count": null
        }
    ]
}